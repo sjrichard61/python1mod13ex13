{
 "cells": [
  {
   "cell_type": "markdown",
   "metadata": {},
   "source": [
    "### Exercise 1\n",
    "Create a file called <b>exercise1.txt</b> and write following lines:\n",
    "\n",
    "    Twinkle, twinkle, little star,\n",
    "    How I wonder what you are.\n",
    "    Up above the world so high,\n",
    "    Like a diamond in the sky.\n",
    "    \n",
    "    \n",
    "Don't forget to close the file.        "
   ]
  },
  {
   "cell_type": "code",
   "execution_count": 54,
   "metadata": {},
   "outputs": [],
   "source": [
    "file = open(\"exercise1.txt\", \"w\")\n",
    "file.write(\"Twinkle, twinkle, little star,\\n\")\n",
    "file.write(\"How I wonder what you are.\\n\")\n",
    "file.write(\"Up above the world so high,\\n\")\n",
    "file.write(\"Like a diamond in the sky.\\n\")\n",
    "file.close()"
   ]
  },
  {
   "cell_type": "code",
   "execution_count": null,
   "metadata": {},
   "outputs": [],
   "source": []
  },
  {
   "cell_type": "markdown",
   "metadata": {},
   "source": [
    "### Exercise 2\n",
    "Append following lines to a file called <b>exercise1.txt</b>:\n",
    "\n",
    "    Twinkle, twinkle, little star,\n",
    "    How I wonder what you are.\n",
    "    \n",
    "Don't forget to close the file.    "
   ]
  },
  {
   "cell_type": "code",
   "execution_count": 55,
   "metadata": {},
   "outputs": [],
   "source": [
    "with open(\"exercise1.txt\", \"a\") as file :\n",
    "    file.write(\"Twinkle, twinkle, little star,\\nHow I wonder what you are.\\n\")\n",
    "    file.close()"
   ]
  },
  {
   "cell_type": "code",
   "execution_count": null,
   "metadata": {},
   "outputs": [],
   "source": []
  },
  {
   "cell_type": "markdown",
   "metadata": {},
   "source": [
    "### Exercise 3\n",
    "Read a file, <b>exercise1.txt</b> and print the content of the file using a loop.\n",
    "    \n",
    "Don't forget to close the file.    "
   ]
  },
  {
   "cell_type": "code",
   "execution_count": 67,
   "metadata": {},
   "outputs": [
    {
     "name": "stdout",
     "output_type": "stream",
     "text": [
      "Twinkle, twinkle, little star,\n",
      "How I wonder what you are.\n",
      "Up above the world so high,\n",
      "Like a diamond in the sky.\n",
      "Twinkle, twinkle, little star,\n",
      "How I wonder what you are.\n"
     ]
    }
   ],
   "source": [
    "with open(\"exercise1.txt\",\"r\") as file :\n",
    "    for line in file :\n",
    "        print(line, end =\"\")\n",
    "    file.close()"
   ]
  },
  {
   "cell_type": "code",
   "execution_count": null,
   "metadata": {},
   "outputs": [],
   "source": []
  },
  {
   "cell_type": "markdown",
   "metadata": {},
   "source": [
    "### Exercise 4\n",
    "Read line number 4 from the file, <b>exercise1.txt</b>."
   ]
  },
  {
   "cell_type": "code",
   "execution_count": 75,
   "metadata": {},
   "outputs": [
    {
     "name": "stdout",
     "output_type": "stream",
     "text": [
      "Line number 4 reads: Like a diamond in the sky.\n",
      "\n"
     ]
    }
   ],
   "source": [
    "with open(\"exercise1.txt\", \"r\") as file :\n",
    "    line_num = 1\n",
    "    for line in file :\n",
    "        line_num += 1\n",
    "        if line_num == 4 :\n",
    "            read_line = file.readline()\n",
    "            print(f\"Line number {line_num} reads: {read_line}\")\n",
    "            break\n",
    "    file.close()"
   ]
  },
  {
   "cell_type": "code",
   "execution_count": null,
   "metadata": {},
   "outputs": [],
   "source": []
  },
  {
   "cell_type": "markdown",
   "metadata": {},
   "source": [
    "### Exercise 5\n",
    "Write a program that asks the user for a number and a file name, then prints out the number from 1 to that number, one one each line to a file named using user's input.\n",
    "Then, read that file and print out its content."
   ]
  },
  {
   "cell_type": "code",
   "execution_count": 102,
   "metadata": {},
   "outputs": [
    {
     "name": "stdin",
     "output_type": "stream",
     "text": [
      "Enter a number: 5\n",
      "Enter a file name: exercise5\n"
     ]
    },
    {
     "name": "stdout",
     "output_type": "stream",
     "text": [
      "1\n",
      "2\n",
      "3\n",
      "4\n",
      "5\n",
      "\n"
     ]
    }
   ],
   "source": [
    "number = int(input(\"Enter a number:\"))\n",
    "file_name = input(\"Enter a file name:\")\n",
    "user_file = open(file_name, \"w+\")\n",
    "for i in range(1,number+1) :\n",
    "    user_file.write(str(i)+\"\\n\")\n",
    "user_file = open(file_name, \"r+\")\n",
    "content = user_file.read()\n",
    "print(content)\n",
    "user_file.close()\n"
   ]
  },
  {
   "cell_type": "code",
   "execution_count": null,
   "metadata": {},
   "outputs": [],
   "source": []
  },
  {
   "cell_type": "markdown",
   "metadata": {},
   "source": [
    "### Exercise 6\n",
    "Merge a file from exercise 5 and <b>exercise1.txt</b> to a file called <b>merged.txt</b>. Then, prin out the content of <b>merged.txt</b> before closing the file."
   ]
  },
  {
   "cell_type": "code",
   "execution_count": 116,
   "metadata": {},
   "outputs": [
    {
     "name": "stdout",
     "output_type": "stream",
     "text": [
      "Twinkle, twinkle, little star,\n",
      "How I wonder what you are.\n",
      "Up above the world so high,\n",
      "Like a diamond in the sky.\n",
      "Twinkle, twinkle, little star,\n",
      "How I wonder what you are.\n",
      "1\n",
      "2\n",
      "3\n",
      "4\n",
      "5\n",
      "\n"
     ]
    }
   ],
   "source": [
    "with open(\"exercise1.txt\", \"r\") as file1, open(\"exercise5\", \"r\") as file2, open(\"merged.txt\", \"w\") as merge_file :\n",
    "    contents = file1.read()\n",
    "    merge_file.write(contents)\n",
    "    merge_file.close()\n",
    "    with open(\"merged.txt\", \"a+\") as merge_file :\n",
    "        contents = file2.read()\n",
    "        merge_file.write(contents)\n",
    "        merge_file.close()\n",
    "    with open(\"merged.txt\", \"r\") as merge_file :\n",
    "        contents = merge_file.read()\n",
    "    print(contents)\n",
    "    file1.close()\n",
    "    file2.close()\n",
    "    merge_file.close()"
   ]
  },
  {
   "cell_type": "code",
   "execution_count": null,
   "metadata": {},
   "outputs": [],
   "source": []
  }
 ],
 "metadata": {
  "kernelspec": {
   "display_name": "Python 3 (ipykernel)",
   "language": "python",
   "name": "python3"
  },
  "language_info": {
   "codemirror_mode": {
    "name": "ipython",
    "version": 3
   },
   "file_extension": ".py",
   "mimetype": "text/x-python",
   "name": "python",
   "nbconvert_exporter": "python",
   "pygments_lexer": "ipython3",
   "version": "3.11.7"
  }
 },
 "nbformat": 4,
 "nbformat_minor": 4
}
